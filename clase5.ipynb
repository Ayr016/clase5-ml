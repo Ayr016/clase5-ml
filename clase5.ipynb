{
 "cells": [
  {
   "cell_type": "markdown",
   "id": "dbed2d96",
   "metadata": {},
   "source": [
    "\n",
    "# Clase 5 — Comparación **K-NN** vs **Árbol de Decisión** (solo visto en clase)\n",
    "\n",
    "**Entorno:** Anaconda + Jupyter  \n",
    "**Dataset:** `Iris` de scikit-learn  \n",
    "**Consigna:** Entrenar, evaluar y comparar la **precisión** de K-NN y Árbol de Decisión sobre un conjunto de datos.\n",
    "\n",
    "> Esta versión respeta estrictamente lo visto en clase: `train_test_split`, `KNeighborsClassifier`, `DecisionTreeClassifier`, `accuracy_score`, `confusion_matrix`, `plot_tree` y gráficos con `matplotlib`.\n"
   ]
  },
  {
   "cell_type": "code",
   "execution_count": null,
   "id": "0b4726b5",
   "metadata": {},
   "outputs": [],
   "source": [
    "\n",
    "# 1) Imports basicos\n",
    "import numpy as np\n",
    "import pandas as pd\n",
    "import matplotlib.pyplot as plt\n",
    "\n",
    "from sklearn.datasets import load_iris\n",
    "from sklearn.model_selection import train_test_split\n",
    "from sklearn.neighbors import KNeighborsClassifier\n",
    "from sklearn.tree import DecisionTreeClassifier, plot_tree\n",
    "from sklearn.metrics import accuracy_score, confusion_matrix\n",
    "\n",
    "# Reproducibilidad\n",
    "RANDOM_STATE = 42\n",
    "np.random.seed(RANDOM_STATE)\n"
   ]
  },
  {
   "cell_type": "code",
   "execution_count": null,
   "id": "030db8ed",
   "metadata": {},
   "outputs": [],
   "source": [
    "\n",
    "# 2) Carga de IRIS y seleccion de 2 caracteristicas para visualizar (largo/ancho del sepalo)\n",
    "iris = load_iris()\n",
    "X_full = pd.DataFrame(iris.data, columns=iris.feature_names)\n",
    "y = pd.Series(iris.target, name=\"target\")\n",
    "\n",
    "# Usamos solo las dos primeras columnas tal como se muestra en la clase\n",
    "X = X_full.iloc[:, :2].copy()  # sepal length (cm), sepal width (cm)\n",
    "\n",
    "print(\"Clases:\", dict(enumerate(iris.target_names)))\n",
    "print(\"Features usadas:\", X.columns.tolist())\n",
    "X.head()\n"
   ]
  },
  {
   "cell_type": "code",
   "execution_count": null,
   "id": "865597ef",
   "metadata": {},
   "outputs": [],
   "source": [
    "\n",
    "# 3) Train/Test split\n",
    "X_train, X_test, y_train, y_test = train_test_split(\n",
    "    X, y, test_size=0.25, random_state=RANDOM_STATE, stratify=y\n",
    ")\n",
    "\n",
    "X_train.shape, X_test.shape\n"
   ]
  },
  {
   "cell_type": "code",
   "execution_count": null,
   "id": "4c773dad",
   "metadata": {},
   "outputs": [],
   "source": [
    "\n",
    "# 4) K-NN con k=15 (uniform vs distance)\n",
    "knn_uniform = KNeighborsClassifier(n_neighbors=15, weights='uniform')\n",
    "knn_distance = KNeighborsClassifier(n_neighbors=15, weights='distance')\n",
    "\n",
    "knn_uniform.fit(X_train, y_train)\n",
    "knn_distance.fit(X_train, y_train)\n",
    "\n",
    "y_pred_knn_u = knn_uniform.predict(X_test)\n",
    "y_pred_knn_d = knn_distance.predict(X_test)\n",
    "\n",
    "acc_knn_u = accuracy_score(y_test, y_pred_knn_u)\n",
    "acc_knn_d = accuracy_score(y_test, y_pred_knn_d)\n",
    "\n",
    "cm_knn_u = confusion_matrix(y_test, y_pred_knn_u)\n",
    "cm_knn_d = confusion_matrix(y_test, y_pred_knn_d)\n",
    "\n",
    "print(f\"Accuracy Test KNN (uniform):  {acc_knn_u:.4f}\")\n",
    "print(f\"Accuracy Test KNN (distance): {acc_knn_d:.4f}\\n\")\n",
    "\n",
    "print(\"Matriz de confusion KNN (uniform):\\n\", cm_knn_u)\n",
    "print(\"Matriz de confusion KNN (distance):\\n\", cm_knn_d)\n"
   ]
  },
  {
   "cell_type": "code",
   "execution_count": null,
   "id": "ed6edbcc",
   "metadata": {},
   "outputs": [],
   "source": [
    "\n",
    "# 5) Regiones de decision para KNN (uniform y distance) con meshgrid\n",
    "h = 0.05  # paso de la grilla\n",
    "x_min, x_max = X.iloc[:,0].min() - 1, X.iloc[:,0].max() + 1\n",
    "y_min, y_max = X.iloc[:,1].min() - 1, X.iloc[:,1].max() + 1\n",
    "xx, yy = np.meshgrid(np.arange(x_min, x_max, h),\n",
    "                     np.arange(y_min, y_max, h))\n",
    "\n",
    "# uniform\n",
    "Z_u = knn_uniform.predict(np.c_[xx.ravel(), yy.ravel()]).reshape(xx.shape)\n",
    "plt.figure()\n",
    "plt.contourf(xx, yy, Z_u, alpha=0.3)\n",
    "plt.scatter(X.iloc[:,0], X.iloc[:,1], c=y, edgecolor=\"k\")\n",
    "plt.title(\"KNN (k=15, weights='uniform') — Regiones de decision\")\n",
    "plt.xlabel(X.columns[0]); plt.ylabel(X.columns[1])\n",
    "plt.show()\n",
    "\n",
    "# distance\n",
    "Z_d = knn_distance.predict(np.c_[xx.ravel(), yy.ravel()]).reshape(xx.shape)\n",
    "plt.figure()\n",
    "plt.contourf(xx, yy, Z_d, alpha=0.3)\n",
    "plt.scatter(X.iloc[:,0], X.iloc[:,1], c=y, edgecolor=\"k\")\n",
    "plt.title(\"KNN (k=15, weights='distance') — Regiones de decision\")\n",
    "plt.xlabel(X.columns[0]); plt.ylabel(X.columns[1])\n",
    "plt.show()\n"
   ]
  },
  {
   "cell_type": "code",
   "execution_count": null,
   "id": "5fa0b3db",
   "metadata": {},
   "outputs": [],
   "source": [
    "\n",
    "# 6) Arbol de Decision (max_depth limitado para evitar sobreajuste)\n",
    "tree = DecisionTreeClassifier(max_depth=4, random_state=RANDOM_STATE)\n",
    "tree.fit(X_train, y_train)\n",
    "y_pred_tree = tree.predict(X_test)\n",
    "\n",
    "acc_tree = accuracy_score(y_test, y_pred_tree)\n",
    "cm_tree = confusion_matrix(y_test, y_pred_tree)\n",
    "\n",
    "print(f\"Accuracy Test Arbol: {acc_tree:.4f}\")\n",
    "print(\"Matriz de confusion Arbol:\\n\", cm_tree)\n"
   ]
  },
  {
   "cell_type": "code",
   "execution_count": null,
   "id": "d3c97fed",
   "metadata": {},
   "outputs": [],
   "source": [
    "\n",
    "# 7) Visualizacion del arbol y de las importancias\n",
    "plt.figure(figsize=(10, 8), dpi=150)\n",
    "plot_tree(tree, feature_names=X.columns, class_names=iris.target_names, filled=True)\n",
    "plt.title(\"Arbol de Decision (max_depth=4)\")\n",
    "plt.show()\n",
    "\n",
    "importances = tree.feature_importances_\n",
    "plt.figure()\n",
    "plt.bar(X.columns, importances)\n",
    "plt.ylabel(\"Importancia\")\n",
    "plt.title(\"Importancia de caracteristicas (Arbol)\")\n",
    "plt.show()\n"
   ]
  },
  {
   "cell_type": "code",
   "execution_count": null,
   "id": "9e26cffa",
   "metadata": {},
   "outputs": [],
   "source": [
    "\n",
    "# 8) Comparacion simple de accuracy\n",
    "modelos = [\"KNN (uniform)\", \"KNN (distance)\", \"Arbol\"]\n",
    "accuracies = [acc_knn_u, acc_knn_d, acc_tree]\n",
    "\n",
    "plt.figure()\n",
    "plt.bar(modelos, accuracies)\n",
    "plt.ylim(0,1)\n",
    "plt.title(\"Accuracy en Test - Comparacion\")\n",
    "plt.show()\n",
    "\n",
    "pd.DataFrame({\"Modelo\": modelos, \"Accuracy_Test\": accuracies})\n"
   ]
  },
  {
   "cell_type": "markdown",
   "id": "a00d954c",
   "metadata": {},
   "source": [
    "\n",
    "## Conclusiones (para el README)\n",
    "- **Rendimiento:** compara los valores de *accuracy* de test y comentá cuál resultó mejor en este dataset y por qué podría ocurrir.\n",
    "- **K-NN:** `k=15` y `weights` afectan el resultado; es sensible a la escala (aquí no escalamos por mantenernos en lo visto).\n",
    "- **Árbol:** con `max_depth=4` evitamos árboles demasiado profundos; permite interpretar reglas y ver importancias.\n",
    "- **Decisión informada:** elegí el modelo según el equilibrio entre rendimiento, interpretabilidad y requisitos de preprocesamiento.\n"
   ]
  }
 ],
 "metadata": {},
 "nbformat": 4,
 "nbformat_minor": 5
}
